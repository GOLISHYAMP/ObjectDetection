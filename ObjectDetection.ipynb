{
 "cells": [
  {
   "cell_type": "code",
   "execution_count": 1,
   "metadata": {
    "_cell_guid": "b1076dfc-b9ad-4769-8c92-a6c4dae69d19",
    "_uuid": "8f2839f25d086af736a60e9eeb907d3b93b6e0e5",
    "execution": {
     "iopub.execute_input": "2025-01-16T15:30:51.720113Z",
     "iopub.status.busy": "2025-01-16T15:30:51.719844Z",
     "iopub.status.idle": "2025-01-16T15:30:51.724440Z",
     "shell.execute_reply": "2025-01-16T15:30:51.723696Z",
     "shell.execute_reply.started": "2025-01-16T15:30:51.720084Z"
    },
    "trusted": true
   },
   "outputs": [],
   "source": [
    "# # This Python 3 environment comes with many helpful analytics libraries installed\n",
    "# # It is defined by the kaggle/python Docker image: https://github.com/kaggle/docker-python\n",
    "# # For example, here's several helpful packages to load\n",
    "\n",
    "# import numpy as np # linear algebra\n",
    "# import pandas as pd # data processing, CSV file I/O (e.g. pd.read_csv)\n",
    "\n",
    "# # Input data files are available in the read-only \"../input/\" directory\n",
    "# # For example, running this (by clicking run or pressing Shift+Enter) will list all files under the input directory\n",
    "\n",
    "# import os\n",
    "# for dirname, _, filenames in os.walk('/kaggle/input'):\n",
    "#     for filename in filenames:\n",
    "#         print(os.path.join(dirname, filename))\n",
    "\n",
    "# # You can write up to 20GB to the current directory (/kaggle/working/) that gets preserved as output when you create a version using \"Save & Run All\" \n",
    "# # You can also write temporary files to /kaggle/temp/, but they won't be saved outside of the current session"
   ]
  },
  {
   "cell_type": "markdown",
   "metadata": {},
   "source": [
    "Followed this repo\n",
    "https://github.com/krishnaik06/TFOD/blob/main/object_detection_camera.ipynb"
   ]
  },
  {
   "cell_type": "code",
   "execution_count": 1,
   "metadata": {
    "execution": {
     "iopub.execute_input": "2025-01-16T15:30:51.725636Z",
     "iopub.status.busy": "2025-01-16T15:30:51.725360Z",
     "iopub.status.idle": "2025-01-16T15:31:58.014914Z",
     "shell.execute_reply": "2025-01-16T15:31:58.014073Z",
     "shell.execute_reply.started": "2025-01-16T15:30:51.725614Z"
    },
    "trusted": true
   },
   "outputs": [],
   "source": [
    "# pip install tensorflow"
   ]
  },
  {
   "cell_type": "code",
   "execution_count": 2,
   "metadata": {
    "execution": {
     "iopub.execute_input": "2025-01-16T15:31:58.016024Z",
     "iopub.status.busy": "2025-01-16T15:31:58.015790Z",
     "iopub.status.idle": "2025-01-16T15:32:04.101984Z",
     "shell.execute_reply": "2025-01-16T15:32:04.101211Z",
     "shell.execute_reply.started": "2025-01-16T15:31:58.015996Z"
    },
    "trusted": true
   },
   "outputs": [
    {
     "name": "stdout",
     "output_type": "stream",
     "text": [
      "2.18.0\n"
     ]
    }
   ],
   "source": [
    "import tensorflow as tf\n",
    "print(tf.__version__)"
   ]
  },
  {
   "cell_type": "markdown",
   "metadata": {},
   "source": [
    "Create the data directory\n",
    "The snippet shown below will create the data directory where all our data will be stored. The code will create a directory structure as shown bellow:\n",
    "\n",
    ".. code-block:: bash\n",
    "\n",
    "data\n",
    "└── models\n",
    "where the models folder will will contain the downloaded models."
   ]
  },
  {
   "cell_type": "code",
   "execution_count": 4,
   "metadata": {},
   "outputs": [
    {
     "data": {
      "text/plain": [
       "'c:\\\\Users\\\\spurusho\\\\Downloads\\\\ObjectDetection\\\\ObjectDetection\\\\models\\\\research\\\\object_detection'"
      ]
     },
     "execution_count": 4,
     "metadata": {},
     "output_type": "execute_result"
    }
   ],
   "source": [
    "import os\n",
    "os.getcwd()"
   ]
  },
  {
   "cell_type": "code",
   "execution_count": 22,
   "metadata": {
    "execution": {
     "iopub.execute_input": "2025-01-16T15:32:04.104562Z",
     "iopub.status.busy": "2025-01-16T15:32:04.104126Z",
     "iopub.status.idle": "2025-01-16T15:32:04.109156Z",
     "shell.execute_reply": "2025-01-16T15:32:04.108316Z",
     "shell.execute_reply.started": "2025-01-16T15:32:04.104539Z"
    },
    "trusted": true
   },
   "outputs": [],
   "source": [
    "import os\n",
    "DATA_DIR = os.path.join(os.getcwd(), 'data')\n",
    "MODELS_DIR = os.path.join(DATA_DIR, 'models')\n",
    "for dir in [DATA_DIR, MODELS_DIR]:\n",
    "    if not os.path.exists(dir):\n",
    "        os.mkdir(dir)"
   ]
  },
  {
   "cell_type": "markdown",
   "metadata": {},
   "source": [
    "# Download the model\n",
    "The code snippet shown below is used to download the object detection model checkpoint file, as well as the labels file (.pbtxt) which contains a list of strings used to add the correct label to each detection (e.g. person).\n",
    "\n",
    "The particular detection algorithm we will use is the SSD ResNet101 V1 FPN 640x640. More models can be found in the TensorFlow 2 Detection Model Zoo <https://github.com/tensorflow/models/blob/master/research/object_detection/g3doc/tf2_detection_zoo.md>_. To use a different model you will need the URL name of the specific model. This can be done as follows:\n",
    "\n",
    "Right click on the Model name of the model you would like to use;\n",
    "Click on Copy link address to copy the download link of the model;\n",
    "Paste the link in a text editor of your choice. You should observe a link similar to [download.tensorflow.org/models/object_detection/tf2/YYYYYYYY/XXXXXXXXX.tar.gz](http://);\n",
    "Copy the XXXXXXXXX part of the link and use it to replace the value of the MODEL_NAME variable in the code shown below;\n",
    "Copy the YYYYYYYY part of the link and use it to replace the value of the MODEL_DATE variable in the code shown below.\n",
    "For example, the download link for the model used below is: [download.tensorflow.org/models/object_detection/tf2/20200711/ssd_resnet101_v1_fpn_640x640_coco17_tpu-8.tar.gz](http://)"
   ]
  },
  {
   "cell_type": "code",
   "execution_count": 25,
   "metadata": {
    "execution": {
     "iopub.execute_input": "2025-01-16T15:32:04.110870Z",
     "iopub.status.busy": "2025-01-16T15:32:04.110574Z",
     "iopub.status.idle": "2025-01-16T15:32:05.143804Z",
     "shell.execute_reply": "2025-01-16T15:32:05.142935Z",
     "shell.execute_reply.started": "2025-01-16T15:32:04.110830Z"
    },
    "trusted": true
   },
   "outputs": [
    {
     "name": "stdout",
     "output_type": "stream",
     "text": [
      "Downloading model. This may take a while... "
     ]
    },
    {
     "name": "stderr",
     "output_type": "stream",
     "text": [
      "C:\\Users\\spurusho\\AppData\\Local\\Temp\\ipykernel_26632\\698677122.py:17: DeprecationWarning: Python 3.14 will, by default, filter extracted tar archives and reject files or modify their metadata. Use the filter argument to control this behavior.\n",
      "  tar_file.extractall(MODELS_DIR)\n"
     ]
    },
    {
     "name": "stdout",
     "output_type": "stream",
     "text": [
      "Done\n",
      "Downloading label file... Done\n"
     ]
    }
   ],
   "source": [
    "import tarfile\n",
    "import urllib.request\n",
    "\n",
    "# Download and extract model\n",
    "MODEL_DATE = '20200711'\n",
    "MODEL_NAME = 'ssd_mobilenet_v2_320x320_coco17_tpu-8'\n",
    "MODEL_TAR_FILENAME = MODEL_NAME + '.tar.gz'\n",
    "MODELS_DOWNLOAD_BASE = 'http://download.tensorflow.org/models/object_detection/tf2/'\n",
    "MODEL_DOWNLOAD_LINK = MODELS_DOWNLOAD_BASE + MODEL_DATE + '/' + MODEL_TAR_FILENAME\n",
    "PATH_TO_MODEL_TAR = os.path.join(MODELS_DIR, MODEL_TAR_FILENAME)\n",
    "PATH_TO_CKPT = os.path.join(MODELS_DIR, os.path.join(MODEL_NAME, 'checkpoint/'))\n",
    "PATH_TO_CFG = os.path.join(MODELS_DIR, os.path.join(MODEL_NAME, 'pipeline.config'))\n",
    "if not os.path.exists(PATH_TO_CKPT):\n",
    "    print('Downloading model. This may take a while... ', end='')\n",
    "    urllib.request.urlretrieve(MODEL_DOWNLOAD_LINK, PATH_TO_MODEL_TAR)\n",
    "    tar_file = tarfile.open(PATH_TO_MODEL_TAR)\n",
    "    tar_file.extractall(MODELS_DIR)\n",
    "    tar_file.close()\n",
    "    os.remove(PATH_TO_MODEL_TAR)\n",
    "    print('Done')\n",
    "\n",
    "# Download labels file\n",
    "LABEL_FILENAME = 'mscoco_label_map.pbtxt'\n",
    "LABELS_DOWNLOAD_BASE = \\\n",
    "    'https://raw.githubusercontent.com/tensorflow/models/master/research/object_detection/data/'\n",
    "PATH_TO_LABELS = os.path.join(MODELS_DIR, os.path.join(MODEL_NAME, LABEL_FILENAME))\n",
    "if not os.path.exists(PATH_TO_LABELS):\n",
    "    print('Downloading label file... ', end='')\n",
    "    urllib.request.urlretrieve(LABELS_DOWNLOAD_BASE + LABEL_FILENAME, PATH_TO_LABELS)\n",
    "    print('Done')"
   ]
  },
  {
   "cell_type": "code",
   "execution_count": 5,
   "metadata": {
    "execution": {
     "iopub.execute_input": "2025-01-16T15:32:05.145188Z",
     "iopub.status.busy": "2025-01-16T15:32:05.144831Z",
     "iopub.status.idle": "2025-01-16T15:32:16.315793Z",
     "shell.execute_reply": "2025-01-16T15:32:16.314580Z",
     "shell.execute_reply.started": "2025-01-16T15:32:05.145154Z"
    },
    "trusted": true
   },
   "outputs": [],
   "source": [
    "# # This Colab requires a recent numpy version.\n",
    "# !pip install numpy==1.24.3\n",
    "# !pip install protobuf==3.20.3"
   ]
  },
  {
   "cell_type": "code",
   "execution_count": 33,
   "metadata": {},
   "outputs": [
    {
     "name": "stdout",
     "output_type": "stream",
     "text": [
      "Defaulting to user installation because normal site-packages is not writeable\n",
      "Collecting matplotlib\n",
      "  Using cached matplotlib-3.10.0-cp312-cp312-win_amd64.whl.metadata (11 kB)\n",
      "Collecting contourpy>=1.0.1 (from matplotlib)\n",
      "  Using cached contourpy-1.3.1-cp312-cp312-win_amd64.whl.metadata (5.4 kB)\n",
      "Collecting cycler>=0.10 (from matplotlib)\n",
      "  Using cached cycler-0.12.1-py3-none-any.whl.metadata (3.8 kB)\n",
      "Collecting fonttools>=4.22.0 (from matplotlib)\n",
      "  Using cached fonttools-4.55.3-cp312-cp312-win_amd64.whl.metadata (168 kB)\n",
      "Collecting kiwisolver>=1.3.1 (from matplotlib)\n",
      "  Using cached kiwisolver-1.4.8-cp312-cp312-win_amd64.whl.metadata (6.3 kB)\n",
      "Requirement already satisfied: numpy>=1.23 in c:\\users\\spurusho\\appdata\\roaming\\python\\python312\\site-packages (from matplotlib) (1.26.4)\n",
      "Requirement already satisfied: packaging>=20.0 in c:\\users\\spurusho\\appdata\\roaming\\python\\python312\\site-packages (from matplotlib) (24.2)\n",
      "Collecting pillow>=8 (from matplotlib)\n",
      "  Using cached pillow-11.1.0-cp312-cp312-win_amd64.whl.metadata (9.3 kB)\n",
      "Collecting pyparsing>=2.3.1 (from matplotlib)\n",
      "  Using cached pyparsing-3.2.1-py3-none-any.whl.metadata (5.0 kB)\n",
      "Requirement already satisfied: python-dateutil>=2.7 in c:\\users\\spurusho\\appdata\\roaming\\python\\python312\\site-packages (from matplotlib) (2.9.0.post0)\n",
      "Requirement already satisfied: six>=1.5 in c:\\users\\spurusho\\appdata\\roaming\\python\\python312\\site-packages (from python-dateutil>=2.7->matplotlib) (1.17.0)\n",
      "Using cached matplotlib-3.10.0-cp312-cp312-win_amd64.whl (8.0 MB)\n",
      "Using cached contourpy-1.3.1-cp312-cp312-win_amd64.whl (220 kB)\n",
      "Using cached cycler-0.12.1-py3-none-any.whl (8.3 kB)\n",
      "Using cached fonttools-4.55.3-cp312-cp312-win_amd64.whl (2.2 MB)\n",
      "Using cached kiwisolver-1.4.8-cp312-cp312-win_amd64.whl (71 kB)\n",
      "Using cached pillow-11.1.0-cp312-cp312-win_amd64.whl (2.6 MB)\n",
      "Using cached pyparsing-3.2.1-py3-none-any.whl (107 kB)\n",
      "Installing collected packages: pyparsing, pillow, kiwisolver, fonttools, cycler, contourpy, matplotlib\n",
      "Successfully installed contourpy-1.3.1 cycler-0.12.1 fonttools-4.55.3 kiwisolver-1.4.8 matplotlib-3.10.0 pillow-11.1.0 pyparsing-3.2.1\n",
      "Note: you may need to restart the kernel to use updated packages.\n"
     ]
    },
    {
     "name": "stderr",
     "output_type": "stream",
     "text": [
      "\n",
      "[notice] A new release of pip is available: 24.0 -> 24.3.1\n",
      "[notice] To update, run: python.exe -m pip install --upgrade pip\n"
     ]
    }
   ],
   "source": [
    "pip install matplotlib"
   ]
  },
  {
   "cell_type": "code",
   "execution_count": 35,
   "metadata": {},
   "outputs": [
    {
     "name": "stdout",
     "output_type": "stream",
     "text": [
      "Defaulting to user installation because normal site-packages is not writeable\n",
      "Collecting scipy\n",
      "  Downloading scipy-1.15.1-cp312-cp312-win_amd64.whl.metadata (60 kB)\n",
      "     ---------------------------------------- 0.0/60.8 kB ? eta -:--:--\n",
      "     ---------------------------------------- 60.8/60.8 kB 1.6 MB/s eta 0:00:00\n",
      "Requirement already satisfied: numpy<2.5,>=1.23.5 in c:\\users\\spurusho\\appdata\\roaming\\python\\python312\\site-packages (from scipy) (1.26.4)\n",
      "Downloading scipy-1.15.1-cp312-cp312-win_amd64.whl (43.6 MB)\n",
      "   ---------------------------------------- 0.0/43.6 MB ? eta -:--:--\n",
      "   ---------------------------------------- 0.2/43.6 MB 6.9 MB/s eta 0:00:07\n",
      "    --------------------------------------- 0.7/43.6 MB 8.8 MB/s eta 0:00:05\n",
      "    --------------------------------------- 0.7/43.6 MB 5.7 MB/s eta 0:00:08\n",
      "   - -------------------------------------- 1.2/43.6 MB 6.8 MB/s eta 0:00:07\n",
      "   - -------------------------------------- 1.5/43.6 MB 7.0 MB/s eta 0:00:07\n",
      "   - -------------------------------------- 1.9/43.6 MB 7.0 MB/s eta 0:00:06\n",
      "   -- ------------------------------------- 2.3/43.6 MB 7.4 MB/s eta 0:00:06\n",
      "   -- ------------------------------------- 2.6/43.6 MB 7.3 MB/s eta 0:00:06\n",
      "   -- ------------------------------------- 2.9/43.6 MB 7.4 MB/s eta 0:00:06\n",
      "   -- ------------------------------------- 3.1/43.6 MB 6.9 MB/s eta 0:00:06\n",
      "   --- ------------------------------------ 3.4/43.6 MB 6.8 MB/s eta 0:00:06\n",
      "   --- ------------------------------------ 3.7/43.6 MB 6.8 MB/s eta 0:00:06\n",
      "   --- ------------------------------------ 3.8/43.6 MB 6.9 MB/s eta 0:00:06\n",
      "   --- ------------------------------------ 3.8/43.6 MB 6.9 MB/s eta 0:00:06\n",
      "   --- ------------------------------------ 3.8/43.6 MB 6.9 MB/s eta 0:00:06\n",
      "   --- ------------------------------------ 3.8/43.6 MB 6.9 MB/s eta 0:00:06\n",
      "   --- ------------------------------------ 4.0/43.6 MB 5.2 MB/s eta 0:00:08\n",
      "   --- ------------------------------------ 4.3/43.6 MB 5.3 MB/s eta 0:00:08\n",
      "   ---- ----------------------------------- 4.6/43.6 MB 5.4 MB/s eta 0:00:08\n",
      "   ---- ----------------------------------- 5.1/43.6 MB 5.6 MB/s eta 0:00:07\n",
      "   ---- ----------------------------------- 5.4/43.6 MB 5.6 MB/s eta 0:00:07\n",
      "   ----- ---------------------------------- 5.8/43.6 MB 5.8 MB/s eta 0:00:07\n",
      "   ----- ---------------------------------- 5.9/43.6 MB 5.9 MB/s eta 0:00:07\n",
      "   ----- ---------------------------------- 5.9/43.6 MB 5.9 MB/s eta 0:00:07\n",
      "   ----- ---------------------------------- 5.9/43.6 MB 5.9 MB/s eta 0:00:07\n",
      "   ----- ---------------------------------- 5.9/43.6 MB 5.9 MB/s eta 0:00:07\n",
      "   ----- ---------------------------------- 6.0/43.6 MB 4.9 MB/s eta 0:00:08\n",
      "   ----- ---------------------------------- 6.4/43.6 MB 5.0 MB/s eta 0:00:08\n",
      "   ------ --------------------------------- 6.8/43.6 MB 5.2 MB/s eta 0:00:08\n",
      "   ------ --------------------------------- 6.9/43.6 MB 5.1 MB/s eta 0:00:08\n",
      "   ------ --------------------------------- 7.2/43.6 MB 5.1 MB/s eta 0:00:08\n",
      "   ------- -------------------------------- 7.8/43.6 MB 5.1 MB/s eta 0:00:08\n",
      "   ------- -------------------------------- 8.1/43.6 MB 5.2 MB/s eta 0:00:07\n",
      "   ------- -------------------------------- 8.5/43.6 MB 5.2 MB/s eta 0:00:07\n",
      "   -------- ------------------------------- 8.8/43.6 MB 5.3 MB/s eta 0:00:07\n",
      "   -------- ------------------------------- 9.2/43.6 MB 5.4 MB/s eta 0:00:07\n",
      "   -------- ------------------------------- 9.6/43.6 MB 5.4 MB/s eta 0:00:07\n",
      "   --------- ------------------------------ 9.9/43.6 MB 5.5 MB/s eta 0:00:07\n",
      "   --------- ------------------------------ 10.0/43.6 MB 5.4 MB/s eta 0:00:07\n",
      "   --------- ------------------------------ 10.2/43.6 MB 5.3 MB/s eta 0:00:07\n",
      "   --------- ------------------------------ 10.5/43.6 MB 5.4 MB/s eta 0:00:07\n",
      "   --------- ------------------------------ 10.8/43.6 MB 5.3 MB/s eta 0:00:07\n",
      "   ---------- ----------------------------- 11.2/43.6 MB 5.4 MB/s eta 0:00:07\n",
      "   ---------- ----------------------------- 11.6/43.6 MB 5.4 MB/s eta 0:00:06\n",
      "   ---------- ----------------------------- 11.6/43.6 MB 5.4 MB/s eta 0:00:06\n",
      "   ---------- ----------------------------- 11.6/43.6 MB 5.4 MB/s eta 0:00:06\n",
      "   ---------- ----------------------------- 11.6/43.6 MB 5.4 MB/s eta 0:00:06\n",
      "   ---------- ----------------------------- 11.6/43.6 MB 5.4 MB/s eta 0:00:06\n",
      "   ---------- ----------------------------- 11.9/43.6 MB 4.9 MB/s eta 0:00:07\n",
      "   ----------- ---------------------------- 12.3/43.6 MB 4.9 MB/s eta 0:00:07\n",
      "   ----------- ---------------------------- 12.6/43.6 MB 5.0 MB/s eta 0:00:07\n",
      "   ----------- ---------------------------- 13.0/43.6 MB 5.0 MB/s eta 0:00:07\n",
      "   ------------ --------------------------- 13.4/43.6 MB 5.0 MB/s eta 0:00:07\n",
      "   ------------ --------------------------- 13.7/43.6 MB 5.0 MB/s eta 0:00:06\n",
      "   ------------ --------------------------- 13.7/43.6 MB 5.0 MB/s eta 0:00:06\n",
      "   ------------ --------------------------- 13.7/43.6 MB 5.0 MB/s eta 0:00:06\n",
      "   ------------ --------------------------- 13.7/43.6 MB 5.0 MB/s eta 0:00:06\n",
      "   ------------ --------------------------- 13.7/43.6 MB 5.0 MB/s eta 0:00:06\n",
      "   ------------ --------------------------- 13.9/43.6 MB 4.5 MB/s eta 0:00:07\n",
      "   ------------ --------------------------- 14.1/43.6 MB 5.0 MB/s eta 0:00:06\n",
      "   ------------- -------------------------- 14.5/43.6 MB 5.0 MB/s eta 0:00:06\n",
      "   ------------- -------------------------- 14.8/43.6 MB 5.0 MB/s eta 0:00:06\n",
      "   ------------- -------------------------- 15.1/43.6 MB 4.9 MB/s eta 0:00:06\n",
      "   -------------- ------------------------- 15.4/43.6 MB 4.9 MB/s eta 0:00:06\n",
      "   -------------- ------------------------- 16.0/43.6 MB 4.9 MB/s eta 0:00:06\n",
      "   -------------- ------------------------- 16.2/43.6 MB 5.5 MB/s eta 0:00:06\n",
      "   --------------- ------------------------ 16.6/43.6 MB 5.5 MB/s eta 0:00:05\n",
      "   --------------- ------------------------ 16.9/43.6 MB 5.4 MB/s eta 0:00:05\n",
      "   --------------- ------------------------ 17.1/43.6 MB 5.5 MB/s eta 0:00:05\n",
      "   --------------- ------------------------ 17.1/43.6 MB 5.5 MB/s eta 0:00:05\n",
      "   --------------- ------------------------ 17.1/43.6 MB 5.5 MB/s eta 0:00:05\n",
      "   --------------- ------------------------ 17.1/43.6 MB 5.5 MB/s eta 0:00:05\n",
      "   --------------- ------------------------ 17.1/43.6 MB 5.5 MB/s eta 0:00:05\n",
      "   ---------------- ----------------------- 17.5/43.6 MB 5.2 MB/s eta 0:00:06\n",
      "   ---------------- ----------------------- 17.9/43.6 MB 5.1 MB/s eta 0:00:06\n",
      "   ---------------- ----------------------- 18.3/43.6 MB 5.1 MB/s eta 0:00:05\n",
      "   ----------------- ---------------------- 18.6/43.6 MB 5.1 MB/s eta 0:00:05\n",
      "   ----------------- ---------------------- 19.0/43.6 MB 5.2 MB/s eta 0:00:05\n",
      "   ----------------- ---------------------- 19.3/43.6 MB 5.1 MB/s eta 0:00:05\n",
      "   ----------------- ---------------------- 19.6/43.6 MB 5.0 MB/s eta 0:00:05\n",
      "   ------------------ --------------------- 19.8/43.6 MB 5.0 MB/s eta 0:00:05\n",
      "   ------------------ --------------------- 19.9/43.6 MB 5.0 MB/s eta 0:00:05\n",
      "   ------------------ --------------------- 20.1/43.6 MB 4.9 MB/s eta 0:00:05\n",
      "   ------------------ --------------------- 20.3/43.6 MB 5.0 MB/s eta 0:00:05\n",
      "   ------------------ --------------------- 20.5/43.6 MB 5.0 MB/s eta 0:00:05\n",
      "   ------------------- -------------------- 20.7/43.6 MB 4.9 MB/s eta 0:00:05\n",
      "   ------------------- -------------------- 21.0/43.6 MB 4.9 MB/s eta 0:00:05\n",
      "   ------------------- -------------------- 21.1/43.6 MB 4.8 MB/s eta 0:00:05\n",
      "   ------------------- -------------------- 21.3/43.6 MB 4.8 MB/s eta 0:00:05\n",
      "   ------------------- -------------------- 21.5/43.6 MB 4.8 MB/s eta 0:00:05\n",
      "   ------------------- -------------------- 21.7/43.6 MB 4.7 MB/s eta 0:00:05\n",
      "   -------------------- ------------------- 21.9/43.6 MB 5.1 MB/s eta 0:00:05\n",
      "   -------------------- ------------------- 22.2/43.6 MB 5.0 MB/s eta 0:00:05\n",
      "   -------------------- ------------------- 22.4/43.6 MB 5.0 MB/s eta 0:00:05\n",
      "   -------------------- ------------------- 22.7/43.6 MB 5.0 MB/s eta 0:00:05\n",
      "   -------------------- ------------------- 22.9/43.6 MB 5.0 MB/s eta 0:00:05\n",
      "   -------------------- ------------------- 22.9/43.6 MB 4.9 MB/s eta 0:00:05\n",
      "   --------------------- ------------------ 23.0/43.6 MB 4.7 MB/s eta 0:00:05\n",
      "   --------------------- ------------------ 23.1/43.6 MB 4.7 MB/s eta 0:00:05\n",
      "   --------------------- ------------------ 23.2/43.6 MB 4.6 MB/s eta 0:00:05\n",
      "   --------------------- ------------------ 23.4/43.6 MB 4.6 MB/s eta 0:00:05\n",
      "   --------------------- ------------------ 23.6/43.6 MB 4.5 MB/s eta 0:00:05\n",
      "   --------------------- ------------------ 23.6/43.6 MB 4.5 MB/s eta 0:00:05\n",
      "   --------------------- ------------------ 23.7/43.6 MB 4.4 MB/s eta 0:00:05\n",
      "   --------------------- ------------------ 24.0/43.6 MB 4.7 MB/s eta 0:00:05\n",
      "   ---------------------- ----------------- 24.1/43.6 MB 4.7 MB/s eta 0:00:05\n",
      "   ---------------------- ----------------- 24.1/43.6 MB 4.7 MB/s eta 0:00:05\n",
      "   ---------------------- ----------------- 24.1/43.6 MB 4.7 MB/s eta 0:00:05\n",
      "   ---------------------- ----------------- 24.3/43.6 MB 4.5 MB/s eta 0:00:05\n",
      "   ---------------------- ----------------- 24.4/43.6 MB 4.4 MB/s eta 0:00:05\n",
      "   ---------------------- ----------------- 24.6/43.6 MB 4.4 MB/s eta 0:00:05\n",
      "   ---------------------- ----------------- 24.8/43.6 MB 4.4 MB/s eta 0:00:05\n",
      "   ---------------------- ----------------- 24.8/43.6 MB 4.3 MB/s eta 0:00:05\n",
      "   ---------------------- ----------------- 24.8/43.6 MB 4.3 MB/s eta 0:00:05\n",
      "   ---------------------- ----------------- 24.9/43.6 MB 4.1 MB/s eta 0:00:05\n",
      "   ----------------------- ---------------- 25.1/43.6 MB 4.1 MB/s eta 0:00:05\n",
      "   ----------------------- ---------------- 25.2/43.6 MB 4.0 MB/s eta 0:00:05\n",
      "   ----------------------- ---------------- 25.3/43.6 MB 4.0 MB/s eta 0:00:05\n",
      "   ----------------------- ---------------- 25.4/43.6 MB 4.0 MB/s eta 0:00:05\n",
      "   ----------------------- ---------------- 25.4/43.6 MB 4.0 MB/s eta 0:00:05\n",
      "   ----------------------- ---------------- 25.6/43.6 MB 3.9 MB/s eta 0:00:05\n",
      "   ----------------------- ---------------- 25.7/43.6 MB 3.8 MB/s eta 0:00:05\n",
      "   ----------------------- ---------------- 25.7/43.6 MB 3.8 MB/s eta 0:00:05\n",
      "   ----------------------- ---------------- 25.7/43.6 MB 3.8 MB/s eta 0:00:05\n",
      "   ----------------------- ---------------- 25.8/43.6 MB 3.6 MB/s eta 0:00:05\n",
      "   ----------------------- ---------------- 25.9/43.6 MB 3.5 MB/s eta 0:00:06\n",
      "   ----------------------- ---------------- 26.0/43.6 MB 3.5 MB/s eta 0:00:06\n",
      "   ----------------------- ---------------- 26.1/43.6 MB 3.5 MB/s eta 0:00:06\n",
      "   ------------------------ --------------- 26.3/43.6 MB 3.4 MB/s eta 0:00:06\n",
      "   ------------------------ --------------- 26.5/43.6 MB 3.4 MB/s eta 0:00:06\n",
      "   ------------------------ --------------- 26.5/43.6 MB 3.4 MB/s eta 0:00:06\n",
      "   ------------------------ --------------- 26.5/43.6 MB 3.4 MB/s eta 0:00:06\n",
      "   ------------------------ --------------- 26.6/43.6 MB 3.3 MB/s eta 0:00:06\n",
      "   ------------------------ --------------- 26.6/43.6 MB 3.3 MB/s eta 0:00:06\n",
      "   ------------------------ --------------- 26.8/43.6 MB 3.2 MB/s eta 0:00:06\n",
      "   ------------------------ --------------- 27.1/43.6 MB 3.2 MB/s eta 0:00:06\n",
      "   ------------------------ --------------- 27.1/43.6 MB 3.2 MB/s eta 0:00:06\n",
      "   ------------------------- -------------- 27.3/43.6 MB 3.4 MB/s eta 0:00:05\n",
      "   ------------------------- -------------- 27.7/43.6 MB 3.4 MB/s eta 0:00:05\n",
      "   ------------------------- -------------- 27.8/43.6 MB 3.3 MB/s eta 0:00:05\n",
      "   ------------------------- -------------- 28.2/43.6 MB 3.3 MB/s eta 0:00:05\n",
      "   -------------------------- ------------- 28.4/43.6 MB 3.3 MB/s eta 0:00:05\n",
      "   -------------------------- ------------- 28.6/43.6 MB 3.3 MB/s eta 0:00:05\n",
      "   -------------------------- ------------- 28.6/43.6 MB 3.3 MB/s eta 0:00:05\n",
      "   -------------------------- ------------- 28.8/43.6 MB 3.2 MB/s eta 0:00:05\n",
      "   -------------------------- ------------- 29.2/43.6 MB 3.2 MB/s eta 0:00:05\n",
      "   -------------------------- ------------- 29.3/43.6 MB 3.2 MB/s eta 0:00:05\n",
      "   -------------------------- ------------- 29.4/43.6 MB 3.1 MB/s eta 0:00:05\n",
      "   --------------------------- ------------ 29.7/43.6 MB 3.1 MB/s eta 0:00:05\n",
      "   --------------------------- ------------ 29.8/43.6 MB 3.1 MB/s eta 0:00:05\n",
      "   --------------------------- ------------ 29.8/43.6 MB 3.1 MB/s eta 0:00:05\n",
      "   --------------------------- ------------ 29.8/43.6 MB 3.1 MB/s eta 0:00:05\n",
      "   --------------------------- ------------ 29.8/43.6 MB 3.1 MB/s eta 0:00:05\n",
      "   --------------------------- ------------ 29.8/43.6 MB 3.1 MB/s eta 0:00:05\n",
      "   --------------------------- ------------ 30.0/43.6 MB 3.0 MB/s eta 0:00:05\n",
      "   --------------------------- ------------ 30.1/43.6 MB 3.0 MB/s eta 0:00:05\n",
      "   --------------------------- ------------ 30.2/43.6 MB 2.9 MB/s eta 0:00:05\n",
      "   --------------------------- ------------ 30.5/43.6 MB 2.9 MB/s eta 0:00:05\n",
      "   ---------------------------- ----------- 30.6/43.6 MB 2.9 MB/s eta 0:00:05\n",
      "   ---------------------------- ----------- 30.9/43.6 MB 2.9 MB/s eta 0:00:05\n",
      "   ---------------------------- ----------- 31.0/43.6 MB 2.9 MB/s eta 0:00:05\n",
      "   ---------------------------- ----------- 31.3/43.6 MB 2.9 MB/s eta 0:00:05\n",
      "   ----------------------------- ---------- 31.7/43.6 MB 3.0 MB/s eta 0:00:05\n",
      "   ----------------------------- ---------- 31.7/43.6 MB 3.0 MB/s eta 0:00:05\n",
      "   ----------------------------- ---------- 31.9/43.6 MB 2.9 MB/s eta 0:00:04\n",
      "   ----------------------------- ---------- 32.1/43.6 MB 2.9 MB/s eta 0:00:04\n",
      "   ----------------------------- ---------- 32.3/43.6 MB 2.9 MB/s eta 0:00:04\n",
      "   ----------------------------- ---------- 32.5/43.6 MB 2.9 MB/s eta 0:00:04\n",
      "   ----------------------------- ---------- 32.5/43.6 MB 2.9 MB/s eta 0:00:04\n",
      "   ----------------------------- ---------- 32.5/43.6 MB 2.9 MB/s eta 0:00:04\n",
      "   ------------------------------ --------- 32.8/43.6 MB 2.8 MB/s eta 0:00:04\n",
      "   ------------------------------ --------- 33.1/43.6 MB 2.8 MB/s eta 0:00:04\n",
      "   ------------------------------ --------- 33.3/43.6 MB 2.9 MB/s eta 0:00:04\n",
      "   ------------------------------ --------- 33.6/43.6 MB 3.0 MB/s eta 0:00:04\n",
      "   ------------------------------- -------- 33.9/43.6 MB 3.0 MB/s eta 0:00:04\n",
      "   ------------------------------- -------- 34.3/43.6 MB 3.1 MB/s eta 0:00:04\n",
      "   ------------------------------- -------- 34.6/43.6 MB 3.2 MB/s eta 0:00:03\n",
      "   ------------------------------- -------- 34.9/43.6 MB 3.2 MB/s eta 0:00:03\n",
      "   -------------------------------- ------- 35.2/43.6 MB 3.4 MB/s eta 0:00:03\n",
      "   -------------------------------- ------- 35.3/43.6 MB 3.4 MB/s eta 0:00:03\n",
      "   -------------------------------- ------- 35.5/43.6 MB 3.4 MB/s eta 0:00:03\n",
      "   -------------------------------- ------- 35.6/43.6 MB 3.4 MB/s eta 0:00:03\n",
      "   -------------------------------- ------- 36.0/43.6 MB 3.7 MB/s eta 0:00:03\n",
      "   --------------------------------- ------ 36.1/43.6 MB 3.8 MB/s eta 0:00:02\n",
      "   --------------------------------- ------ 36.5/43.6 MB 3.9 MB/s eta 0:00:02\n",
      "   --------------------------------- ------ 36.7/43.6 MB 3.9 MB/s eta 0:00:02\n",
      "   --------------------------------- ------ 36.9/43.6 MB 4.1 MB/s eta 0:00:02\n",
      "   ---------------------------------- ----- 37.1/43.6 MB 4.1 MB/s eta 0:00:02\n",
      "   ---------------------------------- ----- 37.5/43.6 MB 4.2 MB/s eta 0:00:02\n",
      "   ---------------------------------- ----- 37.7/43.6 MB 4.2 MB/s eta 0:00:02\n",
      "   ---------------------------------- ----- 38.1/43.6 MB 4.3 MB/s eta 0:00:02\n",
      "   ----------------------------------- ---- 38.5/43.6 MB 4.3 MB/s eta 0:00:02\n",
      "   ----------------------------------- ---- 38.8/43.6 MB 4.3 MB/s eta 0:00:02\n",
      "   ----------------------------------- ---- 39.2/43.6 MB 4.5 MB/s eta 0:00:02\n",
      "   ------------------------------------ --- 39.4/43.6 MB 4.4 MB/s eta 0:00:01\n",
      "   ------------------------------------ --- 39.8/43.6 MB 4.6 MB/s eta 0:00:01\n",
      "   ------------------------------------ --- 39.9/43.6 MB 4.5 MB/s eta 0:00:01\n",
      "   ------------------------------------ --- 40.3/43.6 MB 5.1 MB/s eta 0:00:01\n",
      "   ------------------------------------- -- 40.6/43.6 MB 5.2 MB/s eta 0:00:01\n",
      "   ------------------------------------- -- 40.9/43.6 MB 5.3 MB/s eta 0:00:01\n",
      "   ------------------------------------- -- 40.9/43.6 MB 5.3 MB/s eta 0:00:01\n",
      "   ------------------------------------- -- 40.9/43.6 MB 5.3 MB/s eta 0:00:01\n",
      "   ------------------------------------- -- 40.9/43.6 MB 5.3 MB/s eta 0:00:01\n",
      "   ------------------------------------- -- 40.9/43.6 MB 5.3 MB/s eta 0:00:01\n",
      "   ------------------------------------- -- 40.9/43.6 MB 4.7 MB/s eta 0:00:01\n",
      "   ------------------------------------- -- 41.3/43.6 MB 4.9 MB/s eta 0:00:01\n",
      "   -------------------------------------- - 41.7/43.6 MB 4.8 MB/s eta 0:00:01\n",
      "   -------------------------------------- - 42.0/43.6 MB 5.0 MB/s eta 0:00:01\n",
      "   -------------------------------------- - 42.3/43.6 MB 5.0 MB/s eta 0:00:01\n",
      "   ---------------------------------------  42.5/43.6 MB 5.1 MB/s eta 0:00:01\n",
      "   ---------------------------------------  42.8/43.6 MB 5.2 MB/s eta 0:00:01\n",
      "   ---------------------------------------  43.1/43.6 MB 5.4 MB/s eta 0:00:01\n",
      "   ---------------------------------------  43.4/43.6 MB 5.5 MB/s eta 0:00:01\n",
      "   ---------------------------------------  43.6/43.6 MB 5.5 MB/s eta 0:00:01\n",
      "   ---------------------------------------  43.6/43.6 MB 5.5 MB/s eta 0:00:01\n",
      "   ---------------------------------------  43.6/43.6 MB 5.5 MB/s eta 0:00:01\n",
      "   ---------------------------------------- 43.6/43.6 MB 5.1 MB/s eta 0:00:00\n",
      "Installing collected packages: scipy\n",
      "Successfully installed scipy-1.15.1\n",
      "Note: you may need to restart the kernel to use updated packages.\n"
     ]
    },
    {
     "name": "stderr",
     "output_type": "stream",
     "text": [
      "\n",
      "[notice] A new release of pip is available: 24.0 -> 24.3.1\n",
      "[notice] To update, run: python.exe -m pip install --upgrade pip\n"
     ]
    }
   ],
   "source": [
    "pip install scipy"
   ]
  },
  {
   "cell_type": "code",
   "execution_count": 6,
   "metadata": {},
   "outputs": [],
   "source": [
    "# pip install tensorflow==2.17.0"
   ]
  },
  {
   "cell_type": "code",
   "execution_count": 40,
   "metadata": {},
   "outputs": [
    {
     "name": "stdout",
     "output_type": "stream",
     "text": [
      "Defaulting to user installation because normal site-packages is not writeable\n",
      "Collecting tensorflow_hub\n",
      "  Downloading tensorflow_hub-0.16.1-py2.py3-none-any.whl.metadata (1.3 kB)\n",
      "Requirement already satisfied: numpy>=1.12.0 in c:\\users\\spurusho\\appdata\\roaming\\python\\python312\\site-packages (from tensorflow_hub) (1.26.4)\n",
      "Requirement already satisfied: protobuf>=3.19.6 in c:\\users\\spurusho\\appdata\\roaming\\python\\python312\\site-packages (from tensorflow_hub) (4.25.5)\n",
      "Collecting tf-keras>=2.14.1 (from tensorflow_hub)\n",
      "  Downloading tf_keras-2.18.0-py3-none-any.whl.metadata (1.6 kB)\n",
      "Collecting tensorflow<2.19,>=2.18 (from tf-keras>=2.14.1->tensorflow_hub)\n",
      "  Using cached tensorflow-2.18.0-cp312-cp312-win_amd64.whl.metadata (3.3 kB)\n",
      "Collecting tensorflow-intel==2.18.0 (from tensorflow<2.19,>=2.18->tf-keras>=2.14.1->tensorflow_hub)\n",
      "  Using cached tensorflow_intel-2.18.0-cp312-cp312-win_amd64.whl.metadata (4.9 kB)\n",
      "Requirement already satisfied: absl-py>=1.0.0 in c:\\users\\spurusho\\appdata\\roaming\\python\\python312\\site-packages (from tensorflow-intel==2.18.0->tensorflow<2.19,>=2.18->tf-keras>=2.14.1->tensorflow_hub) (2.1.0)\n",
      "Requirement already satisfied: astunparse>=1.6.0 in c:\\users\\spurusho\\appdata\\roaming\\python\\python312\\site-packages (from tensorflow-intel==2.18.0->tensorflow<2.19,>=2.18->tf-keras>=2.14.1->tensorflow_hub) (1.6.3)\n",
      "Requirement already satisfied: flatbuffers>=24.3.25 in c:\\users\\spurusho\\appdata\\roaming\\python\\python312\\site-packages (from tensorflow-intel==2.18.0->tensorflow<2.19,>=2.18->tf-keras>=2.14.1->tensorflow_hub) (24.12.23)\n",
      "Requirement already satisfied: gast!=0.5.0,!=0.5.1,!=0.5.2,>=0.2.1 in c:\\users\\spurusho\\appdata\\roaming\\python\\python312\\site-packages (from tensorflow-intel==2.18.0->tensorflow<2.19,>=2.18->tf-keras>=2.14.1->tensorflow_hub) (0.6.0)\n",
      "Requirement already satisfied: google-pasta>=0.1.1 in c:\\users\\spurusho\\appdata\\roaming\\python\\python312\\site-packages (from tensorflow-intel==2.18.0->tensorflow<2.19,>=2.18->tf-keras>=2.14.1->tensorflow_hub) (0.2.0)\n",
      "Requirement already satisfied: libclang>=13.0.0 in c:\\users\\spurusho\\appdata\\roaming\\python\\python312\\site-packages (from tensorflow-intel==2.18.0->tensorflow<2.19,>=2.18->tf-keras>=2.14.1->tensorflow_hub) (18.1.1)\n",
      "Requirement already satisfied: opt-einsum>=2.3.2 in c:\\users\\spurusho\\appdata\\roaming\\python\\python312\\site-packages (from tensorflow-intel==2.18.0->tensorflow<2.19,>=2.18->tf-keras>=2.14.1->tensorflow_hub) (3.4.0)\n",
      "Requirement already satisfied: packaging in c:\\users\\spurusho\\appdata\\roaming\\python\\python312\\site-packages (from tensorflow-intel==2.18.0->tensorflow<2.19,>=2.18->tf-keras>=2.14.1->tensorflow_hub) (24.2)\n",
      "Requirement already satisfied: requests<3,>=2.21.0 in c:\\users\\spurusho\\appdata\\roaming\\python\\python312\\site-packages (from tensorflow-intel==2.18.0->tensorflow<2.19,>=2.18->tf-keras>=2.14.1->tensorflow_hub) (2.32.3)\n",
      "Requirement already satisfied: setuptools in c:\\users\\spurusho\\appdata\\roaming\\python\\python312\\site-packages (from tensorflow-intel==2.18.0->tensorflow<2.19,>=2.18->tf-keras>=2.14.1->tensorflow_hub) (75.8.0)\n",
      "Requirement already satisfied: six>=1.12.0 in c:\\users\\spurusho\\appdata\\roaming\\python\\python312\\site-packages (from tensorflow-intel==2.18.0->tensorflow<2.19,>=2.18->tf-keras>=2.14.1->tensorflow_hub) (1.17.0)\n",
      "Requirement already satisfied: termcolor>=1.1.0 in c:\\users\\spurusho\\appdata\\roaming\\python\\python312\\site-packages (from tensorflow-intel==2.18.0->tensorflow<2.19,>=2.18->tf-keras>=2.14.1->tensorflow_hub) (2.5.0)\n",
      "Requirement already satisfied: typing-extensions>=3.6.6 in c:\\users\\spurusho\\appdata\\roaming\\python\\python312\\site-packages (from tensorflow-intel==2.18.0->tensorflow<2.19,>=2.18->tf-keras>=2.14.1->tensorflow_hub) (4.12.2)\n",
      "Requirement already satisfied: wrapt>=1.11.0 in c:\\users\\spurusho\\appdata\\roaming\\python\\python312\\site-packages (from tensorflow-intel==2.18.0->tensorflow<2.19,>=2.18->tf-keras>=2.14.1->tensorflow_hub) (1.17.2)\n",
      "Requirement already satisfied: grpcio<2.0,>=1.24.3 in c:\\users\\spurusho\\appdata\\roaming\\python\\python312\\site-packages (from tensorflow-intel==2.18.0->tensorflow<2.19,>=2.18->tf-keras>=2.14.1->tensorflow_hub) (1.69.0)\n",
      "Collecting tensorboard<2.19,>=2.18 (from tensorflow-intel==2.18.0->tensorflow<2.19,>=2.18->tf-keras>=2.14.1->tensorflow_hub)\n",
      "  Using cached tensorboard-2.18.0-py3-none-any.whl.metadata (1.6 kB)\n",
      "Requirement already satisfied: keras>=3.5.0 in c:\\users\\spurusho\\appdata\\roaming\\python\\python312\\site-packages (from tensorflow-intel==2.18.0->tensorflow<2.19,>=2.18->tf-keras>=2.14.1->tensorflow_hub) (3.8.0)\n",
      "Requirement already satisfied: h5py>=3.11.0 in c:\\users\\spurusho\\appdata\\roaming\\python\\python312\\site-packages (from tensorflow-intel==2.18.0->tensorflow<2.19,>=2.18->tf-keras>=2.14.1->tensorflow_hub) (3.12.1)\n",
      "Requirement already satisfied: ml-dtypes<0.5.0,>=0.4.0 in c:\\users\\spurusho\\appdata\\roaming\\python\\python312\\site-packages (from tensorflow-intel==2.18.0->tensorflow<2.19,>=2.18->tf-keras>=2.14.1->tensorflow_hub) (0.4.1)\n",
      "Requirement already satisfied: wheel<1.0,>=0.23.0 in c:\\users\\spurusho\\appdata\\roaming\\python\\python312\\site-packages (from astunparse>=1.6.0->tensorflow-intel==2.18.0->tensorflow<2.19,>=2.18->tf-keras>=2.14.1->tensorflow_hub) (0.45.1)\n",
      "Requirement already satisfied: rich in c:\\users\\spurusho\\appdata\\roaming\\python\\python312\\site-packages (from keras>=3.5.0->tensorflow-intel==2.18.0->tensorflow<2.19,>=2.18->tf-keras>=2.14.1->tensorflow_hub) (13.9.4)\n",
      "Requirement already satisfied: namex in c:\\users\\spurusho\\appdata\\roaming\\python\\python312\\site-packages (from keras>=3.5.0->tensorflow-intel==2.18.0->tensorflow<2.19,>=2.18->tf-keras>=2.14.1->tensorflow_hub) (0.0.8)\n",
      "Requirement already satisfied: optree in c:\\users\\spurusho\\appdata\\roaming\\python\\python312\\site-packages (from keras>=3.5.0->tensorflow-intel==2.18.0->tensorflow<2.19,>=2.18->tf-keras>=2.14.1->tensorflow_hub) (0.13.1)\n",
      "Requirement already satisfied: charset-normalizer<4,>=2 in c:\\users\\spurusho\\appdata\\roaming\\python\\python312\\site-packages (from requests<3,>=2.21.0->tensorflow-intel==2.18.0->tensorflow<2.19,>=2.18->tf-keras>=2.14.1->tensorflow_hub) (3.4.1)\n",
      "Requirement already satisfied: idna<4,>=2.5 in c:\\users\\spurusho\\appdata\\roaming\\python\\python312\\site-packages (from requests<3,>=2.21.0->tensorflow-intel==2.18.0->tensorflow<2.19,>=2.18->tf-keras>=2.14.1->tensorflow_hub) (3.10)\n",
      "Requirement already satisfied: urllib3<3,>=1.21.1 in c:\\users\\spurusho\\appdata\\roaming\\python\\python312\\site-packages (from requests<3,>=2.21.0->tensorflow-intel==2.18.0->tensorflow<2.19,>=2.18->tf-keras>=2.14.1->tensorflow_hub) (2.3.0)\n",
      "Requirement already satisfied: certifi>=2017.4.17 in c:\\users\\spurusho\\appdata\\roaming\\python\\python312\\site-packages (from requests<3,>=2.21.0->tensorflow-intel==2.18.0->tensorflow<2.19,>=2.18->tf-keras>=2.14.1->tensorflow_hub) (2024.12.14)\n",
      "Requirement already satisfied: markdown>=2.6.8 in c:\\users\\spurusho\\appdata\\roaming\\python\\python312\\site-packages (from tensorboard<2.19,>=2.18->tensorflow-intel==2.18.0->tensorflow<2.19,>=2.18->tf-keras>=2.14.1->tensorflow_hub) (3.7)\n",
      "Requirement already satisfied: tensorboard-data-server<0.8.0,>=0.7.0 in c:\\users\\spurusho\\appdata\\roaming\\python\\python312\\site-packages (from tensorboard<2.19,>=2.18->tensorflow-intel==2.18.0->tensorflow<2.19,>=2.18->tf-keras>=2.14.1->tensorflow_hub) (0.7.2)\n",
      "Requirement already satisfied: werkzeug>=1.0.1 in c:\\users\\spurusho\\appdata\\roaming\\python\\python312\\site-packages (from tensorboard<2.19,>=2.18->tensorflow-intel==2.18.0->tensorflow<2.19,>=2.18->tf-keras>=2.14.1->tensorflow_hub) (3.1.3)\n",
      "Requirement already satisfied: MarkupSafe>=2.1.1 in c:\\users\\spurusho\\appdata\\roaming\\python\\python312\\site-packages (from werkzeug>=1.0.1->tensorboard<2.19,>=2.18->tensorflow-intel==2.18.0->tensorflow<2.19,>=2.18->tf-keras>=2.14.1->tensorflow_hub) (3.0.2)\n",
      "Requirement already satisfied: markdown-it-py>=2.2.0 in c:\\users\\spurusho\\appdata\\roaming\\python\\python312\\site-packages (from rich->keras>=3.5.0->tensorflow-intel==2.18.0->tensorflow<2.19,>=2.18->tf-keras>=2.14.1->tensorflow_hub) (3.0.0)\n",
      "Requirement already satisfied: pygments<3.0.0,>=2.13.0 in c:\\users\\spurusho\\appdata\\roaming\\python\\python312\\site-packages (from rich->keras>=3.5.0->tensorflow-intel==2.18.0->tensorflow<2.19,>=2.18->tf-keras>=2.14.1->tensorflow_hub) (2.19.1)\n",
      "Requirement already satisfied: mdurl~=0.1 in c:\\users\\spurusho\\appdata\\roaming\\python\\python312\\site-packages (from markdown-it-py>=2.2.0->rich->keras>=3.5.0->tensorflow-intel==2.18.0->tensorflow<2.19,>=2.18->tf-keras>=2.14.1->tensorflow_hub) (0.1.2)\n",
      "Downloading tensorflow_hub-0.16.1-py2.py3-none-any.whl (30 kB)\n",
      "Downloading tf_keras-2.18.0-py3-none-any.whl (1.7 MB)\n",
      "   ---------------------------------------- 0.0/1.7 MB ? eta -:--:--\n",
      "   - -------------------------------------- 0.1/1.7 MB 1.9 MB/s eta 0:00:01\n",
      "   ----- ---------------------------------- 0.3/1.7 MB 2.6 MB/s eta 0:00:01\n",
      "   -------------- ------------------------- 0.6/1.7 MB 4.2 MB/s eta 0:00:01\n",
      "   ------------------------ --------------- 1.0/1.7 MB 5.5 MB/s eta 0:00:01\n",
      "   ------------------------------- -------- 1.3/1.7 MB 5.7 MB/s eta 0:00:01\n",
      "   ---------------------------------- ----- 1.5/1.7 MB 5.5 MB/s eta 0:00:01\n",
      "   ------------------------------------ --- 1.6/1.7 MB 5.2 MB/s eta 0:00:01\n",
      "   ------------------------------------ --- 1.6/1.7 MB 5.2 MB/s eta 0:00:01\n",
      "   ------------------------------------ --- 1.6/1.7 MB 5.2 MB/s eta 0:00:01\n",
      "   ------------------------------------ --- 1.6/1.7 MB 5.2 MB/s eta 0:00:01\n",
      "   ------------------------------------ --- 1.6/1.7 MB 5.2 MB/s eta 0:00:01\n",
      "   ------------------------------------ --- 1.6/1.7 MB 5.2 MB/s eta 0:00:01\n",
      "   ---------------------------------------  1.7/1.7 MB 2.9 MB/s eta 0:00:01\n",
      "   ---------------------------------------- 1.7/1.7 MB 2.8 MB/s eta 0:00:00\n",
      "Using cached tensorflow-2.18.0-cp312-cp312-win_amd64.whl (7.5 kB)\n",
      "Using cached tensorflow_intel-2.18.0-cp312-cp312-win_amd64.whl (390.3 MB)\n",
      "Using cached tensorboard-2.18.0-py3-none-any.whl (5.5 MB)\n",
      "Installing collected packages: tensorboard, tensorflow-intel, tensorflow, tf-keras, tensorflow_hub\n",
      "  Attempting uninstall: tensorboard\n",
      "    Found existing installation: tensorboard 2.17.1\n",
      "    Uninstalling tensorboard-2.17.1:\n",
      "      Successfully uninstalled tensorboard-2.17.1\n",
      "  Attempting uninstall: tensorflow-intel\n",
      "    Found existing installation: tensorflow-intel 2.17.0\n",
      "    Uninstalling tensorflow-intel-2.17.0:\n",
      "      Successfully uninstalled tensorflow-intel-2.17.0\n",
      "  Attempting uninstall: tensorflow\n",
      "    Found existing installation: tensorflow 2.17.0\n",
      "    Uninstalling tensorflow-2.17.0:\n",
      "      Successfully uninstalled tensorflow-2.17.0\n",
      "Successfully installed tensorboard-2.18.0 tensorflow-2.18.0 tensorflow-intel-2.18.0 tensorflow_hub-0.16.1 tf-keras-2.18.0\n",
      "Note: you may need to restart the kernel to use updated packages.\n"
     ]
    },
    {
     "name": "stderr",
     "output_type": "stream",
     "text": [
      "\n",
      "[notice] A new release of pip is available: 24.0 -> 24.3.1\n",
      "[notice] To update, run: python.exe -m pip install --upgrade pip\n"
     ]
    }
   ],
   "source": [
    "pip install tensorflow_hub"
   ]
  },
  {
   "cell_type": "code",
   "execution_count": 7,
   "metadata": {
    "execution": {
     "iopub.execute_input": "2025-01-16T15:32:16.317289Z",
     "iopub.status.busy": "2025-01-16T15:32:16.316997Z",
     "iopub.status.idle": "2025-01-16T15:32:18.274358Z",
     "shell.execute_reply": "2025-01-16T15:32:18.273691Z",
     "shell.execute_reply.started": "2025-01-16T15:32:16.317234Z"
    },
    "trusted": true
   },
   "outputs": [
    {
     "name": "stderr",
     "output_type": "stream",
     "text": [
      "C:\\Users\\spurusho\\AppData\\Local\\Temp\\ipykernel_27756\\3955447678.py:7: DeprecationWarning: scipy.misc is deprecated and will be removed in 2.0.0\n",
      "  import scipy.misc\n"
     ]
    },
    {
     "name": "stdout",
     "output_type": "stream",
     "text": [
      "WARNING:tensorflow:From c:\\Users\\spurusho\\Downloads\\ObjectDetection\\ObjectDetection\\venv\\Lib\\site-packages\\tf_keras\\src\\losses.py:2976: The name tf.losses.sparse_softmax_cross_entropy is deprecated. Please use tf.compat.v1.losses.sparse_softmax_cross_entropy instead.\n",
      "\n"
     ]
    }
   ],
   "source": [
    "import os\n",
    "import pathlib\n",
    "\n",
    "import matplotlib.pyplot as plt\n",
    "\n",
    "import io\n",
    "import scipy.misc\n",
    "import numpy as np\n",
    "from six import BytesIO\n",
    "from PIL import Image, ImageDraw, ImageFont\n",
    "from six.moves.urllib.request import urlopen\n",
    "\n",
    "import tensorflow as tf\n",
    "import tensorflow_hub as hub\n",
    "\n",
    "tf.get_logger().setLevel('ERROR')"
   ]
  },
  {
   "cell_type": "code",
   "execution_count": 10,
   "metadata": {
    "execution": {
     "iopub.execute_input": "2025-01-16T15:32:18.275417Z",
     "iopub.status.busy": "2025-01-16T15:32:18.274943Z",
     "iopub.status.idle": "2025-01-16T15:32:29.522461Z",
     "shell.execute_reply": "2025-01-16T15:32:29.521364Z",
     "shell.execute_reply.started": "2025-01-16T15:32:18.275393Z"
    },
    "trusted": true
   },
   "outputs": [],
   "source": [
    "model = hub.load('C:/Users/spurusho/Downloads/ObjectDetection/ObjectDetection/models/research/object_detection/data/models/ssd_mobilenet_v2_320x320_coco17_tpu-8/saved_model')"
   ]
  },
  {
   "cell_type": "code",
   "execution_count": 12,
   "metadata": {
    "execution": {
     "iopub.execute_input": "2025-01-16T15:32:29.523823Z",
     "iopub.status.busy": "2025-01-16T15:32:29.523544Z",
     "iopub.status.idle": "2025-01-16T15:32:29.532120Z",
     "shell.execute_reply": "2025-01-16T15:32:29.531357Z",
     "shell.execute_reply.started": "2025-01-16T15:32:29.523796Z"
    },
    "trusted": true
   },
   "outputs": [
    {
     "data": {
      "text/plain": [
       "('image.jpg', <email.message.Message at 0x23d9ee07fe0>)"
      ]
     },
     "execution_count": 12,
     "metadata": {},
     "output_type": "execute_result"
    }
   ],
   "source": [
    "import urllib\n",
    "urllib.request.urlretrieve('data:image/jpeg;base64,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','image.jpg')"
   ]
  },
  {
   "cell_type": "code",
   "execution_count": 15,
   "metadata": {
    "execution": {
     "iopub.execute_input": "2025-01-16T15:35:02.298305Z",
     "iopub.status.busy": "2025-01-16T15:35:02.297936Z",
     "iopub.status.idle": "2025-01-16T15:35:02.314722Z",
     "shell.execute_reply": "2025-01-16T15:35:02.313910Z",
     "shell.execute_reply.started": "2025-01-16T15:35:02.298279Z"
    },
    "trusted": true
   },
   "outputs": [
    {
     "data": {
      "text/plain": [
       "(208, 243, 3)"
      ]
     },
     "execution_count": 15,
     "metadata": {},
     "output_type": "execute_result"
    }
   ],
   "source": [
    "import cv2\n",
    "\n",
    "img = cv2.imread('C:/Users/spurusho/Downloads/ObjectDetection/ObjectDetection/models/research/object_detection/image.jpg')\n",
    "img.shape"
   ]
  },
  {
   "cell_type": "code",
   "execution_count": 16,
   "metadata": {
    "execution": {
     "iopub.execute_input": "2025-01-16T15:35:07.667756Z",
     "iopub.status.busy": "2025-01-16T15:35:07.667415Z",
     "iopub.status.idle": "2025-01-16T15:35:07.672995Z",
     "shell.execute_reply": "2025-01-16T15:35:07.672115Z",
     "shell.execute_reply.started": "2025-01-16T15:35:07.667735Z"
    },
    "trusted": true
   },
   "outputs": [
    {
     "data": {
      "text/plain": [
       "(208, 243, 3)"
      ]
     },
     "execution_count": 16,
     "metadata": {},
     "output_type": "execute_result"
    }
   ],
   "source": [
    "input_img = np.array(img)\n",
    "input_img.shape"
   ]
  },
  {
   "cell_type": "code",
   "execution_count": 17,
   "metadata": {
    "execution": {
     "iopub.execute_input": "2025-01-16T15:35:11.765177Z",
     "iopub.status.busy": "2025-01-16T15:35:11.764852Z",
     "iopub.status.idle": "2025-01-16T15:35:11.768856Z",
     "shell.execute_reply": "2025-01-16T15:35:11.768073Z",
     "shell.execute_reply.started": "2025-01-16T15:35:11.765150Z"
    },
    "trusted": true
   },
   "outputs": [],
   "source": [
    "# Add a new dimension\n",
    "input_img = np.expand_dims(input_img, axis=0)"
   ]
  },
  {
   "cell_type": "code",
   "execution_count": 18,
   "metadata": {
    "execution": {
     "iopub.execute_input": "2025-01-16T15:35:15.874438Z",
     "iopub.status.busy": "2025-01-16T15:35:15.874127Z",
     "iopub.status.idle": "2025-01-16T15:35:15.879918Z",
     "shell.execute_reply": "2025-01-16T15:35:15.878931Z",
     "shell.execute_reply.started": "2025-01-16T15:35:15.874415Z"
    },
    "trusted": true
   },
   "outputs": [
    {
     "data": {
      "text/plain": [
       "(1, 208, 243, 3)"
      ]
     },
     "execution_count": 18,
     "metadata": {},
     "output_type": "execute_result"
    }
   ],
   "source": [
    "input_img.shape"
   ]
  },
  {
   "cell_type": "code",
   "execution_count": 19,
   "metadata": {
    "execution": {
     "iopub.execute_input": "2025-01-16T15:35:20.407949Z",
     "iopub.status.busy": "2025-01-16T15:35:20.407623Z",
     "iopub.status.idle": "2025-01-16T15:35:26.229230Z",
     "shell.execute_reply": "2025-01-16T15:35:26.228056Z",
     "shell.execute_reply.started": "2025-01-16T15:35:20.407924Z"
    },
    "trusted": true
   },
   "outputs": [
    {
     "name": "stdout",
     "output_type": "stream",
     "text": [
      "dict_keys(['raw_detection_boxes', 'detection_multiclass_scores', 'detection_classes', 'detection_boxes', 'raw_detection_scores', 'num_detections', 'detection_anchor_indices', 'detection_scores'])\n"
     ]
    }
   ],
   "source": [
    "# running inference\n",
    "results = model(input_img)\n",
    "\n",
    "# different object detection models have additional results\n",
    "# all of them are explained in the documentation\n",
    "result = {key:value.numpy() for key,value in results.items()}\n",
    "print(result.keys())"
   ]
  },
  {
   "cell_type": "code",
   "execution_count": 20,
   "metadata": {
    "trusted": true
   },
   "outputs": [],
   "source": [
    "# Clone the tensorflow models repository\n",
    "# !git clone --depth 1 https://github.com/tensorflow/models"
   ]
  },
  {
   "cell_type": "code",
   "execution_count": 22,
   "metadata": {},
   "outputs": [
    {
     "data": {
      "text/plain": [
       "'c:\\\\Users\\\\spurusho\\\\Downloads\\\\ObjectDetection\\\\ObjectDetection\\\\models\\\\research\\\\object_detection'"
      ]
     },
     "execution_count": 22,
     "metadata": {},
     "output_type": "execute_result"
    }
   ],
   "source": [
    "os.getcwd()"
   ]
  },
  {
   "cell_type": "code",
   "execution_count": 30,
   "metadata": {},
   "outputs": [],
   "source": [
    "# %%bash\n",
    "# sudo apt install -y protobuf-compiler\n",
    "# cd models/research/\n",
    "# protoc object_detection/protos/*.proto --python_out=.\n",
    "# cp object_detection/packages/tf2/setup.py .\n",
    "# python -m pip install .\n"
   ]
  },
  {
   "cell_type": "code",
   "execution_count": 24,
   "metadata": {
    "trusted": true
   },
   "outputs": [
    {
     "ename": "ModuleNotFoundError",
     "evalue": "No module named 'object_detection'",
     "output_type": "error",
     "traceback": [
      "\u001b[1;31m---------------------------------------------------------------------------\u001b[0m",
      "\u001b[1;31mModuleNotFoundError\u001b[0m                       Traceback (most recent call last)",
      "Cell \u001b[1;32mIn[24], line 2\u001b[0m\n\u001b[0;32m      1\u001b[0m \u001b[38;5;66;03m# from object_detection.utils import label_map_util\u001b[39;00m\n\u001b[1;32m----> 2\u001b[0m \u001b[38;5;28;01mfrom\u001b[39;00m\u001b[38;5;250m \u001b[39m\u001b[38;5;21;01mutils\u001b[39;00m\u001b[38;5;250m \u001b[39m\u001b[38;5;28;01mimport\u001b[39;00m visualization_utils \u001b[38;5;28;01mas\u001b[39;00m viz_utils\n\u001b[0;32m      3\u001b[0m \u001b[38;5;66;03m# from object_detection.utils import ops as utils_ops\u001b[39;00m\n\u001b[0;32m      5\u001b[0m get_ipython()\u001b[38;5;241m.\u001b[39mrun_line_magic(\u001b[38;5;124m'\u001b[39m\u001b[38;5;124mmatplotlib\u001b[39m\u001b[38;5;124m'\u001b[39m, \u001b[38;5;124m'\u001b[39m\u001b[38;5;124minline\u001b[39m\u001b[38;5;124m'\u001b[39m)\n",
      "File \u001b[1;32mc:\\Users\\spurusho\\Downloads\\ObjectDetection\\ObjectDetection\\models\\research\\object_detection\\utils\\visualization_utils.py:41\u001b[0m\n\u001b[0;32m     38\u001b[0m \u001b[38;5;28;01mfrom\u001b[39;00m\u001b[38;5;250m \u001b[39m\u001b[38;5;21;01msix\u001b[39;00m\u001b[38;5;21;01m.\u001b[39;00m\u001b[38;5;21;01mmoves\u001b[39;00m\u001b[38;5;250m \u001b[39m\u001b[38;5;28;01mimport\u001b[39;00m \u001b[38;5;28mzip\u001b[39m\n\u001b[0;32m     39\u001b[0m \u001b[38;5;28;01mimport\u001b[39;00m\u001b[38;5;250m \u001b[39m\u001b[38;5;21;01mtensorflow\u001b[39;00m\u001b[38;5;21;01m.\u001b[39;00m\u001b[38;5;21;01mcompat\u001b[39;00m\u001b[38;5;21;01m.\u001b[39;00m\u001b[38;5;21;01mv1\u001b[39;00m\u001b[38;5;250m \u001b[39m\u001b[38;5;28;01mas\u001b[39;00m\u001b[38;5;250m \u001b[39m\u001b[38;5;21;01mtf\u001b[39;00m\n\u001b[1;32m---> 41\u001b[0m \u001b[38;5;28;01mfrom\u001b[39;00m\u001b[38;5;250m \u001b[39m\u001b[38;5;21;01mobject_detection\u001b[39;00m\u001b[38;5;21;01m.\u001b[39;00m\u001b[38;5;21;01mcore\u001b[39;00m\u001b[38;5;250m \u001b[39m\u001b[38;5;28;01mimport\u001b[39;00m keypoint_ops\n\u001b[0;32m     42\u001b[0m \u001b[38;5;28;01mfrom\u001b[39;00m\u001b[38;5;250m \u001b[39m\u001b[38;5;21;01mobject_detection\u001b[39;00m\u001b[38;5;21;01m.\u001b[39;00m\u001b[38;5;21;01mcore\u001b[39;00m\u001b[38;5;250m \u001b[39m\u001b[38;5;28;01mimport\u001b[39;00m standard_fields \u001b[38;5;28;01mas\u001b[39;00m fields\n\u001b[0;32m     43\u001b[0m \u001b[38;5;28;01mfrom\u001b[39;00m\u001b[38;5;250m \u001b[39m\u001b[38;5;21;01mobject_detection\u001b[39;00m\u001b[38;5;21;01m.\u001b[39;00m\u001b[38;5;21;01mutils\u001b[39;00m\u001b[38;5;250m \u001b[39m\u001b[38;5;28;01mimport\u001b[39;00m shape_utils\n",
      "\u001b[1;31mModuleNotFoundError\u001b[0m: No module named 'object_detection'"
     ]
    }
   ],
   "source": [
    "from object_detection.utils import label_map_util\n",
    "from object_detection.utils import visualization_utils as viz_utils\n",
    "from object_detection.utils import ops as utils_ops\n",
    "\n",
    "%matplotlib inline"
   ]
  },
  {
   "cell_type": "code",
   "execution_count": 16,
   "metadata": {
    "execution": {
     "iopub.execute_input": "2025-01-16T15:37:08.934431Z",
     "iopub.status.busy": "2025-01-16T15:37:08.934013Z",
     "iopub.status.idle": "2025-01-16T15:37:08.957834Z",
     "shell.execute_reply": "2025-01-16T15:37:08.956679Z",
     "shell.execute_reply.started": "2025-01-16T15:37:08.934401Z"
    },
    "trusted": true
   },
   "outputs": [
    {
     "ename": "NameError",
     "evalue": "name 'viz_utils' is not defined",
     "output_type": "error",
     "traceback": [
      "\u001b[0;31m---------------------------------------------------------------------------\u001b[0m",
      "\u001b[0;31mNameError\u001b[0m                                 Traceback (most recent call last)",
      "\u001b[0;32m<ipython-input-16-8e9fc9f851e9>\u001b[0m in \u001b[0;36m<cell line: 10>\u001b[0;34m()\u001b[0m\n\u001b[1;32m      8\u001b[0m   \u001b[0mkeypoint_scores\u001b[0m \u001b[0;34m=\u001b[0m \u001b[0mresult\u001b[0m\u001b[0;34m[\u001b[0m\u001b[0;34m'detection_keypoint_scores'\u001b[0m\u001b[0;34m]\u001b[0m\u001b[0;34m[\u001b[0m\u001b[0;36m0\u001b[0m\u001b[0;34m]\u001b[0m\u001b[0;34m\u001b[0m\u001b[0;34m\u001b[0m\u001b[0m\n\u001b[1;32m      9\u001b[0m \u001b[0;34m\u001b[0m\u001b[0m\n\u001b[0;32m---> 10\u001b[0;31m viz_utils.visualize_boxes_and_labels_on_image_array(\n\u001b[0m\u001b[1;32m     11\u001b[0m       \u001b[0mimage_np_with_detections\u001b[0m\u001b[0;34m[\u001b[0m\u001b[0;36m0\u001b[0m\u001b[0;34m]\u001b[0m\u001b[0;34m,\u001b[0m\u001b[0;34m\u001b[0m\u001b[0;34m\u001b[0m\u001b[0m\n\u001b[1;32m     12\u001b[0m       \u001b[0mresult\u001b[0m\u001b[0;34m[\u001b[0m\u001b[0;34m'detection_boxes'\u001b[0m\u001b[0;34m]\u001b[0m\u001b[0;34m[\u001b[0m\u001b[0;36m0\u001b[0m\u001b[0;34m]\u001b[0m\u001b[0;34m,\u001b[0m\u001b[0;34m\u001b[0m\u001b[0;34m\u001b[0m\u001b[0m\n",
      "\u001b[0;31mNameError\u001b[0m: name 'viz_utils' is not defined"
     ]
    }
   ],
   "source": [
    "label_id_offset = 0\n",
    "image_np_with_detections = input_img.copy()\n",
    "\n",
    "# Use keypoints if available in detections\n",
    "keypoints, keypoint_scores = None, None\n",
    "if 'detection_keypoints' in result:\n",
    "  keypoints = result['detection_keypoints'][0]\n",
    "  keypoint_scores = result['detection_keypoint_scores'][0]\n",
    "\n",
    "viz_utils.visualize_boxes_and_labels_on_image_array(\n",
    "      image_np_with_detections[0],\n",
    "      result['detection_boxes'][0],\n",
    "      (result['detection_classes'][0] + label_id_offset).astype(int),\n",
    "      result['detection_scores'][0],\n",
    "      category_index,\n",
    "      use_normalized_coordinates=True,\n",
    "      max_boxes_to_draw=200,\n",
    "      min_score_thresh=.30,\n",
    "      agnostic_mode=False,\n",
    "      keypoints=keypoints,\n",
    "      keypoint_scores=keypoint_scores,\n",
    "      keypoint_edges=COCO17_HUMAN_POSE_KEYPOINTS)\n",
    "\n",
    "plt.figure(figsize=(24,32))\n",
    "plt.imshow(image_np_with_detections[0])\n",
    "plt.show()"
   ]
  },
  {
   "cell_type": "code",
   "execution_count": null,
   "metadata": {
    "trusted": true
   },
   "outputs": [],
   "source": []
  }
 ],
 "metadata": {
  "kaggle": {
   "accelerator": "nvidiaTeslaT4",
   "dataSources": [],
   "dockerImageVersionId": 30839,
   "isGpuEnabled": true,
   "isInternetEnabled": true,
   "language": "python",
   "sourceType": "notebook"
  },
  "kernelspec": {
   "display_name": "venv",
   "language": "python",
   "name": "python3"
  },
  "language_info": {
   "codemirror_mode": {
    "name": "ipython",
    "version": 3
   },
   "file_extension": ".py",
   "mimetype": "text/x-python",
   "name": "python",
   "nbconvert_exporter": "python",
   "pygments_lexer": "ipython3",
   "version": "3.12.5"
  }
 },
 "nbformat": 4,
 "nbformat_minor": 4
}
